{
 "cells": [
  {
   "cell_type": "code",
   "execution_count": 36,
   "metadata": {},
   "outputs": [
    {
     "ename": "OSError",
     "evalue": "[Errno 17] File exists: '/Users/Wolf-Pack/Desktop/Experiments/dogs_cats/all/cats_dogs_small'",
     "output_type": "error",
     "traceback": [
      "\u001b[0;31m---------------------------------------------------------------------------\u001b[0m",
      "\u001b[0;31mOSError\u001b[0m                                   Traceback (most recent call last)",
      "\u001b[0;32m<ipython-input-36-93141f8086ba>\u001b[0m in \u001b[0;36m<module>\u001b[0;34m()\u001b[0m\n\u001b[1;32m      7\u001b[0m \u001b[0;34m\u001b[0m\u001b[0m\n\u001b[1;32m      8\u001b[0m \u001b[0mbase_dir\u001b[0m \u001b[0;34m=\u001b[0m \u001b[0;34m'/Users/Wolf-Pack/Desktop/Experiments/dogs_cats/all/cats_dogs_small'\u001b[0m\u001b[0;34m\u001b[0m\u001b[0m\n\u001b[0;32m----> 9\u001b[0;31m \u001b[0mos\u001b[0m\u001b[0;34m.\u001b[0m\u001b[0mmkdir\u001b[0m\u001b[0;34m(\u001b[0m\u001b[0mbase_dir\u001b[0m\u001b[0;34m)\u001b[0m\u001b[0;34m\u001b[0m\u001b[0m\n\u001b[0m\u001b[1;32m     10\u001b[0m \u001b[0;34m\u001b[0m\u001b[0m\n\u001b[1;32m     11\u001b[0m \u001b[0mtrain_dir\u001b[0m \u001b[0;34m=\u001b[0m \u001b[0mos\u001b[0m\u001b[0;34m.\u001b[0m\u001b[0mpath\u001b[0m\u001b[0;34m.\u001b[0m\u001b[0mjoin\u001b[0m\u001b[0;34m(\u001b[0m\u001b[0mbase_dir\u001b[0m\u001b[0;34m,\u001b[0m \u001b[0;34m'train'\u001b[0m\u001b[0;34m)\u001b[0m\u001b[0;34m\u001b[0m\u001b[0m\n",
      "\u001b[0;31mOSError\u001b[0m: [Errno 17] File exists: '/Users/Wolf-Pack/Desktop/Experiments/dogs_cats/all/cats_dogs_small'"
     ]
    }
   ],
   "source": [
    "import os, shutil\n",
    "from keras import models\n",
    "from keras import layers\n",
    "from keras import optimizers\n",
    "\n",
    "original_dataset_dir = '/Users/Wolf-Pack/Desktop/Experiments/dogs_cats/all/train'\n",
    "\n",
    "base_dir = '/Users/Wolf-Pack/Desktop/Experiments/dogs_cats/all/cats_dogs_small'\n",
    "os.mkdir(base_dir)\n",
    "\n",
    "train_dir = os.path.join(base_dir, 'train')\n",
    "os.mkdir(train_dir)\n",
    "validation_dir = os.path.join(base_dir, 'validation')\n",
    "os.mkdir(validation_dir)\n",
    "test_dir = os.path.join(base_dir, 'test')\n",
    "os.mkdir(test_dir)\n"
   ]
  },
  {
   "cell_type": "markdown",
   "metadata": {},
   "source": [
    "Setting up directories for "
   ]
  },
  {
   "cell_type": "code",
   "execution_count": 17,
   "metadata": {},
   "outputs": [],
   "source": [
    "train_cats_dir = os.path.join(train_dir, 'cats')\n",
    "os.mkdir(train_cats_dir)"
   ]
  },
  {
   "cell_type": "code",
   "execution_count": 18,
   "metadata": {},
   "outputs": [],
   "source": [
    "train_dogs_dir = os.path.join(train_dir, 'dogs')"
   ]
  },
  {
   "cell_type": "code",
   "execution_count": 19,
   "metadata": {},
   "outputs": [],
   "source": [
    "os.mkdir(train_dogs_dir)"
   ]
  },
  {
   "cell_type": "code",
   "execution_count": 20,
   "metadata": {},
   "outputs": [],
   "source": [
    "validation_cats_dir = os.path.join(validation_dir, 'cats')"
   ]
  },
  {
   "cell_type": "code",
   "execution_count": 21,
   "metadata": {},
   "outputs": [],
   "source": [
    "os.mkdir(validation_cats_dir)\n"
   ]
  },
  {
   "cell_type": "code",
   "execution_count": 22,
   "metadata": {},
   "outputs": [],
   "source": [
    "validation_dogs_dir = os.path.join(validation_dir, 'dogs')"
   ]
  },
  {
   "cell_type": "code",
   "execution_count": 23,
   "metadata": {},
   "outputs": [],
   "source": [
    "os.mkdir(validation_dogs_dir)"
   ]
  },
  {
   "cell_type": "code",
   "execution_count": 24,
   "metadata": {},
   "outputs": [],
   "source": [
    "test_cats_dir = os.path.join(test_dir, 'cats')\n",
    "os.mkdir(test_cats_dir)"
   ]
  },
  {
   "cell_type": "code",
   "execution_count": 25,
   "metadata": {},
   "outputs": [],
   "source": [
    "test_dogs_dir = os.path.join(test_dir, 'dogs')"
   ]
  },
  {
   "cell_type": "code",
   "execution_count": 26,
   "metadata": {},
   "outputs": [],
   "source": [
    "os.mkdir(test_dogs_dir)"
   ]
  },
  {
   "cell_type": "code",
   "execution_count": 27,
   "metadata": {},
   "outputs": [],
   "source": [
    "fnames = ['cat.{}.jpg'.format(i) for i in range(1000)]\n",
    "for fname in fnames:\n",
    "    src = os.path.join(original_dataset_dir,fname)\n",
    "    dst = os.path.join(train_cats_dir,fname)\n",
    "    shutil.copy(src,dst)"
   ]
  },
  {
   "cell_type": "code",
   "execution_count": 29,
   "metadata": {},
   "outputs": [],
   "source": [
    "fnames = ['cat.{}.jpg'.format(i) for i in range(1000,1500)]\n",
    "for fname in fnames:\n",
    "    src = os.path.join(original_dataset_dir,fname)\n",
    "    dst = os.path.join(validation_cats_dir,fname)\n",
    "    shutil.copy(src,dst)"
   ]
  },
  {
   "cell_type": "code",
   "execution_count": 30,
   "metadata": {},
   "outputs": [],
   "source": [
    "fnames = ['cat.{}.jpg'.format(i) for i in range(1500,2000)]\n",
    "for fname in fnames:\n",
    "    src = os.path.join(original_dataset_dir,fname)\n",
    "    dst = os.path.join(test_cats_dir,fname)\n",
    "    shutil.copy(src,dst)"
   ]
  },
  {
   "cell_type": "code",
   "execution_count": 31,
   "metadata": {},
   "outputs": [],
   "source": [
    "fnames = ['dog.{}.jpg'.format(i) for i in range(1000)]\n",
    "for fname in fnames:\n",
    "    src = os.path.join(original_dataset_dir, fname)\n",
    "    dst = os.path.join(train_dogs_dir, fname)\n",
    "    shutil.copyfile(src, dst)"
   ]
  },
  {
   "cell_type": "code",
   "execution_count": 32,
   "metadata": {},
   "outputs": [],
   "source": [
    "fnames = ['dog.{}.jpg'.format(i) for i in range(1000, 1500)]\n",
    "for fname in fnames:\n",
    "    src = os.path.join(original_dataset_dir, fname)\n",
    "    dst = os.path.join(validation_dogs_dir, fname)\n",
    "    shutil.copyfile(src, dst)"
   ]
  },
  {
   "cell_type": "code",
   "execution_count": 33,
   "metadata": {},
   "outputs": [],
   "source": [
    "fnames = ['dog.{}.jpg'.format(i) for i in range(1500, 2000)]\n",
    "for fname in fnames:\n",
    "    src = os.path.join(original_dataset_dir, fname)\n",
    "    dst = os.path.join(test_dogs_dir, fname)\n",
    "    shutil.copyfile(src, dst)"
   ]
  },
  {
   "cell_type": "code",
   "execution_count": 46,
   "metadata": {},
   "outputs": [],
   "source": [
    "model = models.Sequential()\n",
    "model.add(layers.Conv2D(32,(3,3),activation='relu',input_shape=(150,150,3)))\n",
    "model.add(layers.MaxPooling2D((2,2)))\n",
    "model.add(layers.Conv2D(64,(3,3),activation='relu'))\n",
    "model.add(layers.MaxPooling2D((2,2)))\n",
    "model.add(layers.Conv2D(128,(3,3),activation='relu'))\n",
    "model.add(layers.MaxPooling2D((2,2)))\n",
    "model.add(layers.Conv2D(128, (3, 3), activation='relu'))\n",
    "model.add(layers.MaxPooling2D((2, 2)))\n",
    "model.add(layers.Flatten())\n",
    "model.add(layers.Dropout(0.5))\n",
    "model.add(layers.Dense(512,activation='relu'))\n",
    "model.add(layers.Dense(1,activation='sigmoid'))        "
   ]
  },
  {
   "cell_type": "code",
   "execution_count": 47,
   "metadata": {},
   "outputs": [
    {
     "name": "stdout",
     "output_type": "stream",
     "text": [
      "_________________________________________________________________\n",
      "Layer (type)                 Output Shape              Param #   \n",
      "=================================================================\n",
      "conv2d_5 (Conv2D)            (None, 148, 148, 32)      896       \n",
      "_________________________________________________________________\n",
      "max_pooling2d_5 (MaxPooling2 (None, 74, 74, 32)        0         \n",
      "_________________________________________________________________\n",
      "conv2d_6 (Conv2D)            (None, 72, 72, 64)        18496     \n",
      "_________________________________________________________________\n",
      "max_pooling2d_6 (MaxPooling2 (None, 36, 36, 64)        0         \n",
      "_________________________________________________________________\n",
      "conv2d_7 (Conv2D)            (None, 34, 34, 128)       73856     \n",
      "_________________________________________________________________\n",
      "max_pooling2d_7 (MaxPooling2 (None, 17, 17, 128)       0         \n",
      "_________________________________________________________________\n",
      "conv2d_8 (Conv2D)            (None, 15, 15, 128)       147584    \n",
      "_________________________________________________________________\n",
      "max_pooling2d_8 (MaxPooling2 (None, 7, 7, 128)         0         \n",
      "_________________________________________________________________\n",
      "flatten_2 (Flatten)          (None, 6272)              0         \n",
      "_________________________________________________________________\n",
      "dropout_1 (Dropout)          (None, 6272)              0         \n",
      "_________________________________________________________________\n",
      "dense_3 (Dense)              (None, 512)               3211776   \n",
      "_________________________________________________________________\n",
      "dense_4 (Dense)              (None, 1)                 513       \n",
      "=================================================================\n",
      "Total params: 3,453,121\n",
      "Trainable params: 3,453,121\n",
      "Non-trainable params: 0\n",
      "_________________________________________________________________\n"
     ]
    }
   ],
   "source": [
    "model.summary()"
   ]
  },
  {
   "cell_type": "code",
   "execution_count": 48,
   "metadata": {},
   "outputs": [],
   "source": [
    "model.compile(loss='binary_crossentropy',optimizer=optimizers.RMSprop(lr=1e-4),metrics=['acc'])"
   ]
  },
  {
   "cell_type": "code",
   "execution_count": 40,
   "metadata": {},
   "outputs": [],
   "source": [
    "from keras.preprocessing.image import ImageDataGenerator\n"
   ]
  },
  {
   "cell_type": "code",
   "execution_count": 49,
   "metadata": {},
   "outputs": [
    {
     "name": "stdout",
     "output_type": "stream",
     "text": [
      "Found 2000 images belonging to 2 classes.\n"
     ]
    }
   ],
   "source": [
    "train_datagen = ImageDataGenerator(rescale=1./255,\n",
    "                                  rotation_range=40,\n",
    "                                  width_shift_range=0.2,\n",
    "                                  height_shift_range=0.2,\n",
    "                                  shear_range=0.2,\n",
    "                                  zoom_range=0.2,\n",
    "                                  horizontal_flip=True,\n",
    "                                  fill_mode='nearest')\n",
    "test_datagen = ImageDataGenerator(rescale=1./255)\n",
    "\n",
    "train_generator = train_datagen.flow_from_directory(train_dir,target_size=(150,150),batch_size=32,class_mode='binary')"
   ]
  },
  {
   "cell_type": "code",
   "execution_count": 50,
   "metadata": {},
   "outputs": [
    {
     "name": "stdout",
     "output_type": "stream",
     "text": [
      "Found 1000 images belonging to 2 classes.\n"
     ]
    }
   ],
   "source": [
    "validation_generator = test_datagen.flow_from_directory(validation_dir,target_size=(150,150),batch_size=32,class_mode='binary')"
   ]
  },
  {
   "cell_type": "code",
   "execution_count": 51,
   "metadata": {},
   "outputs": [
    {
     "name": "stdout",
     "output_type": "stream",
     "text": [
      "Epoch 1/100\n",
      "100/100 [==============================] - 216s 2s/step - loss: 0.6907 - acc: 0.5244 - val_loss: 0.6734 - val_acc: 0.5870\n",
      "Epoch 2/100\n",
      "100/100 [==============================] - 202s 2s/step - loss: 0.6796 - acc: 0.5619 - val_loss: 0.6683 - val_acc: 0.5680\n",
      "Epoch 3/100\n",
      "100/100 [==============================] - 198s 2s/step - loss: 0.6599 - acc: 0.6066 - val_loss: 0.6747 - val_acc: 0.5720\n",
      "Epoch 4/100\n",
      "100/100 [==============================] - 202s 2s/step - loss: 0.6471 - acc: 0.6216 - val_loss: 0.6343 - val_acc: 0.6290\n",
      "Epoch 5/100\n",
      "100/100 [==============================] - 217s 2s/step - loss: 0.6320 - acc: 0.6284 - val_loss: 0.6153 - val_acc: 0.6340\n",
      "Epoch 6/100\n",
      "100/100 [==============================] - 201s 2s/step - loss: 0.6161 - acc: 0.6503 - val_loss: 0.7277 - val_acc: 0.5530\n",
      "Epoch 7/100\n",
      "100/100 [==============================] - 203s 2s/step - loss: 0.6017 - acc: 0.6734 - val_loss: 0.6087 - val_acc: 0.6850\n",
      "Epoch 8/100\n",
      "100/100 [==============================] - 214s 2s/step - loss: 0.5975 - acc: 0.6841 - val_loss: 0.5603 - val_acc: 0.7090\n",
      "Epoch 9/100\n",
      "100/100 [==============================] - 203s 2s/step - loss: 0.5829 - acc: 0.6803 - val_loss: 0.5575 - val_acc: 0.7000\n",
      "Epoch 10/100\n",
      "100/100 [==============================] - 198s 2s/step - loss: 0.5774 - acc: 0.6938 - val_loss: 0.5899 - val_acc: 0.6710\n",
      "Epoch 11/100\n",
      "100/100 [==============================] - 202s 2s/step - loss: 0.5672 - acc: 0.7053 - val_loss: 0.5737 - val_acc: 0.7040\n",
      "Epoch 12/100\n",
      "100/100 [==============================] - 220s 2s/step - loss: 0.5623 - acc: 0.7047 - val_loss: 0.5247 - val_acc: 0.7270\n",
      "Epoch 13/100\n",
      "100/100 [==============================] - 205s 2s/step - loss: 0.5569 - acc: 0.7119 - val_loss: 0.5226 - val_acc: 0.7270\n",
      "Epoch 14/100\n",
      "100/100 [==============================] - 227s 2s/step - loss: 0.5595 - acc: 0.7166 - val_loss: 0.5595 - val_acc: 0.7110\n",
      "Epoch 15/100\n",
      "100/100 [==============================] - 209s 2s/step - loss: 0.5542 - acc: 0.7097 - val_loss: 0.5801 - val_acc: 0.6780\n",
      "Epoch 16/100\n",
      "100/100 [==============================] - 208s 2s/step - loss: 0.5428 - acc: 0.7169 - val_loss: 0.5607 - val_acc: 0.7200\n",
      "Epoch 17/100\n",
      "100/100 [==============================] - 207s 2s/step - loss: 0.5410 - acc: 0.7238 - val_loss: 0.5650 - val_acc: 0.6950\n",
      "Epoch 18/100\n",
      "100/100 [==============================] - 207s 2s/step - loss: 0.5326 - acc: 0.7316 - val_loss: 0.5126 - val_acc: 0.7470\n",
      "Epoch 19/100\n",
      "100/100 [==============================] - 198s 2s/step - loss: 0.5280 - acc: 0.7316 - val_loss: 0.5224 - val_acc: 0.7400\n",
      "Epoch 20/100\n",
      "100/100 [==============================] - 201s 2s/step - loss: 0.5251 - acc: 0.7288 - val_loss: 0.5560 - val_acc: 0.7200\n",
      "Epoch 21/100\n",
      "100/100 [==============================] - 206s 2s/step - loss: 0.5275 - acc: 0.7409 - val_loss: 0.5524 - val_acc: 0.7300\n",
      "Epoch 22/100\n",
      "100/100 [==============================] - 254s 3s/step - loss: 0.5210 - acc: 0.7400 - val_loss: 0.5535 - val_acc: 0.7320\n",
      "Epoch 23/100\n",
      "100/100 [==============================] - 243s 2s/step - loss: 0.5095 - acc: 0.7481 - val_loss: 0.5973 - val_acc: 0.6880\n",
      "Epoch 24/100\n",
      "100/100 [==============================] - 204s 2s/step - loss: 0.5132 - acc: 0.7447 - val_loss: 0.5135 - val_acc: 0.7500\n",
      "Epoch 25/100\n",
      "100/100 [==============================] - 197s 2s/step - loss: 0.5285 - acc: 0.7378 - val_loss: 0.5205 - val_acc: 0.7400\n",
      "Epoch 26/100\n",
      "100/100 [==============================] - 197s 2s/step - loss: 0.5007 - acc: 0.7534 - val_loss: 0.4943 - val_acc: 0.7480\n",
      "Epoch 27/100\n",
      "100/100 [==============================] - 210s 2s/step - loss: 0.5099 - acc: 0.7534 - val_loss: 0.5016 - val_acc: 0.7500\n",
      "Epoch 28/100\n",
      "100/100 [==============================] - 197s 2s/step - loss: 0.5062 - acc: 0.7469 - val_loss: 0.5062 - val_acc: 0.7400\n",
      "Epoch 29/100\n",
      "100/100 [==============================] - 228s 2s/step - loss: 0.5075 - acc: 0.7519 - val_loss: 0.5326 - val_acc: 0.7420\n",
      "Epoch 30/100\n",
      "100/100 [==============================] - 211s 2s/step - loss: 0.4908 - acc: 0.7534 - val_loss: 0.5316 - val_acc: 0.7410\n",
      "Epoch 31/100\n",
      "100/100 [==============================] - 212s 2s/step - loss: 0.4859 - acc: 0.7678 - val_loss: 0.5115 - val_acc: 0.7390\n",
      "Epoch 32/100\n",
      "100/100 [==============================] - 199s 2s/step - loss: 0.4786 - acc: 0.7641 - val_loss: 0.4957 - val_acc: 0.7660\n",
      "Epoch 33/100\n",
      "100/100 [==============================] - 198s 2s/step - loss: 0.4819 - acc: 0.7688 - val_loss: 0.5154 - val_acc: 0.7450\n",
      "Epoch 34/100\n",
      "100/100 [==============================] - 193s 2s/step - loss: 0.4862 - acc: 0.7659 - val_loss: 0.4894 - val_acc: 0.7770\n",
      "Epoch 35/100\n",
      "100/100 [==============================] - 197s 2s/step - loss: 0.4832 - acc: 0.7716 - val_loss: 0.4838 - val_acc: 0.7700\n",
      "Epoch 36/100\n",
      "100/100 [==============================] - 194s 2s/step - loss: 0.4755 - acc: 0.7647 - val_loss: 0.4631 - val_acc: 0.7850\n",
      "Epoch 37/100\n",
      "100/100 [==============================] - 194s 2s/step - loss: 0.4788 - acc: 0.7663 - val_loss: 0.4741 - val_acc: 0.7740\n",
      "Epoch 38/100\n",
      "100/100 [==============================] - 205s 2s/step - loss: 0.4666 - acc: 0.7688 - val_loss: 0.5157 - val_acc: 0.7570\n",
      "Epoch 39/100\n",
      "100/100 [==============================] - 202s 2s/step - loss: 0.4674 - acc: 0.7766 - val_loss: 0.5184 - val_acc: 0.7440\n",
      "Epoch 40/100\n",
      "100/100 [==============================] - 204s 2s/step - loss: 0.4714 - acc: 0.7766 - val_loss: 0.4714 - val_acc: 0.7800\n",
      "Epoch 41/100\n",
      "100/100 [==============================] - 204s 2s/step - loss: 0.4590 - acc: 0.7822 - val_loss: 0.5465 - val_acc: 0.7470\n",
      "Epoch 42/100\n",
      "100/100 [==============================] - 203s 2s/step - loss: 0.4629 - acc: 0.7741 - val_loss: 0.4885 - val_acc: 0.7820\n",
      "Epoch 43/100\n",
      "100/100 [==============================] - 205s 2s/step - loss: 0.4613 - acc: 0.7819 - val_loss: 0.5007 - val_acc: 0.7680\n",
      "Epoch 44/100\n",
      "100/100 [==============================] - 202s 2s/step - loss: 0.4614 - acc: 0.7856 - val_loss: 0.4525 - val_acc: 0.7960\n",
      "Epoch 45/100\n",
      "100/100 [==============================] - 202s 2s/step - loss: 0.4551 - acc: 0.7897 - val_loss: 0.4649 - val_acc: 0.7780\n",
      "Epoch 46/100\n",
      "100/100 [==============================] - 204s 2s/step - loss: 0.4609 - acc: 0.7791 - val_loss: 0.4887 - val_acc: 0.7770\n",
      "Epoch 47/100\n",
      "100/100 [==============================] - 204s 2s/step - loss: 0.4483 - acc: 0.7847 - val_loss: 0.4961 - val_acc: 0.7730\n",
      "Epoch 48/100\n",
      "100/100 [==============================] - 204s 2s/step - loss: 0.4647 - acc: 0.7728 - val_loss: 0.4676 - val_acc: 0.7810\n",
      "Epoch 49/100\n",
      "100/100 [==============================] - 204s 2s/step - loss: 0.4533 - acc: 0.7769 - val_loss: 0.5057 - val_acc: 0.7600\n",
      "Epoch 50/100\n",
      "100/100 [==============================] - 205s 2s/step - loss: 0.4537 - acc: 0.7850 - val_loss: 0.5093 - val_acc: 0.7540\n",
      "Epoch 51/100\n",
      "100/100 [==============================] - 209s 2s/step - loss: 0.4422 - acc: 0.7897 - val_loss: 0.5373 - val_acc: 0.7430\n",
      "Epoch 52/100\n",
      "100/100 [==============================] - 204s 2s/step - loss: 0.4399 - acc: 0.7947 - val_loss: 0.4728 - val_acc: 0.7890\n",
      "Epoch 53/100\n",
      "100/100 [==============================] - 207s 2s/step - loss: 0.4424 - acc: 0.7944 - val_loss: 0.4877 - val_acc: 0.7630\n",
      "Epoch 54/100\n",
      "100/100 [==============================] - 209s 2s/step - loss: 0.4444 - acc: 0.7831 - val_loss: 0.4968 - val_acc: 0.7830\n",
      "Epoch 55/100\n",
      "100/100 [==============================] - 205s 2s/step - loss: 0.4374 - acc: 0.7912 - val_loss: 0.5132 - val_acc: 0.7650\n",
      "Epoch 56/100\n",
      "100/100 [==============================] - 199s 2s/step - loss: 0.4524 - acc: 0.7803 - val_loss: 0.4613 - val_acc: 0.7950\n",
      "Epoch 57/100\n",
      "100/100 [==============================] - 198s 2s/step - loss: 0.4317 - acc: 0.7981 - val_loss: 0.5010 - val_acc: 0.7700\n",
      "Epoch 58/100\n",
      "100/100 [==============================] - 206s 2s/step - loss: 0.4440 - acc: 0.7944 - val_loss: 0.5046 - val_acc: 0.7770\n",
      "Epoch 59/100\n",
      "100/100 [==============================] - 199s 2s/step - loss: 0.4332 - acc: 0.8012 - val_loss: 0.4835 - val_acc: 0.7890\n",
      "Epoch 60/100\n",
      "100/100 [==============================] - 195s 2s/step - loss: 0.4428 - acc: 0.7950 - val_loss: 0.4463 - val_acc: 0.8090\n",
      "Epoch 61/100\n",
      "100/100 [==============================] - 207s 2s/step - loss: 0.4233 - acc: 0.8028 - val_loss: 0.4553 - val_acc: 0.7830\n"
     ]
    },
    {
     "name": "stdout",
     "output_type": "stream",
     "text": [
      "Epoch 62/100\n",
      "100/100 [==============================] - 197s 2s/step - loss: 0.4360 - acc: 0.7941 - val_loss: 0.4545 - val_acc: 0.8020\n",
      "Epoch 63/100\n",
      "100/100 [==============================] - 198s 2s/step - loss: 0.4248 - acc: 0.7969 - val_loss: 0.4845 - val_acc: 0.7820\n",
      "Epoch 64/100\n",
      "100/100 [==============================] - 203s 2s/step - loss: 0.4296 - acc: 0.8031 - val_loss: 0.4606 - val_acc: 0.7830\n",
      "Epoch 65/100\n",
      "100/100 [==============================] - 197s 2s/step - loss: 0.4312 - acc: 0.7975 - val_loss: 0.4503 - val_acc: 0.8070\n",
      "Epoch 66/100\n",
      "100/100 [==============================] - 203s 2s/step - loss: 0.4224 - acc: 0.8069 - val_loss: 0.4606 - val_acc: 0.8030\n",
      "Epoch 67/100\n",
      "100/100 [==============================] - 195s 2s/step - loss: 0.4295 - acc: 0.8006 - val_loss: 0.4547 - val_acc: 0.8100\n",
      "Epoch 68/100\n",
      "100/100 [==============================] - 194s 2s/step - loss: 0.4371 - acc: 0.8010 - val_loss: 0.4501 - val_acc: 0.8010\n",
      "Epoch 69/100\n",
      "100/100 [==============================] - 195s 2s/step - loss: 0.4315 - acc: 0.7969 - val_loss: 0.4354 - val_acc: 0.7860\n",
      "Epoch 70/100\n",
      "100/100 [==============================] - 193s 2s/step - loss: 0.4200 - acc: 0.8075 - val_loss: 0.5273 - val_acc: 0.7850\n",
      "Epoch 71/100\n",
      "100/100 [==============================] - 196s 2s/step - loss: 0.4098 - acc: 0.8075 - val_loss: 0.4701 - val_acc: 0.7850\n",
      "Epoch 72/100\n",
      "100/100 [==============================] - 194s 2s/step - loss: 0.4295 - acc: 0.7988 - val_loss: 0.5359 - val_acc: 0.7580\n",
      "Epoch 73/100\n",
      "100/100 [==============================] - 195s 2s/step - loss: 0.4086 - acc: 0.8159 - val_loss: 0.4831 - val_acc: 0.7990\n",
      "Epoch 74/100\n",
      "100/100 [==============================] - 204s 2s/step - loss: 0.4126 - acc: 0.8134 - val_loss: 0.4991 - val_acc: 0.7870\n",
      "Epoch 75/100\n",
      "100/100 [==============================] - 200s 2s/step - loss: 0.4200 - acc: 0.8116 - val_loss: 0.4598 - val_acc: 0.7880\n",
      "Epoch 76/100\n",
      "100/100 [==============================] - 201s 2s/step - loss: 0.4149 - acc: 0.8081 - val_loss: 0.4625 - val_acc: 0.7910\n",
      "Epoch 77/100\n",
      "100/100 [==============================] - 202s 2s/step - loss: 0.3977 - acc: 0.8131 - val_loss: 0.5793 - val_acc: 0.7360\n",
      "Epoch 78/100\n",
      "100/100 [==============================] - 201s 2s/step - loss: 0.4047 - acc: 0.8172 - val_loss: 0.5037 - val_acc: 0.7890\n",
      "Epoch 79/100\n",
      "100/100 [==============================] - 201s 2s/step - loss: 0.4031 - acc: 0.8169 - val_loss: 0.4339 - val_acc: 0.8120\n",
      "Epoch 80/100\n",
      "100/100 [==============================] - 198s 2s/step - loss: 0.4211 - acc: 0.8137 - val_loss: 0.4840 - val_acc: 0.7870\n",
      "Epoch 81/100\n",
      "100/100 [==============================] - 200s 2s/step - loss: 0.4118 - acc: 0.8147 - val_loss: 0.4982 - val_acc: 0.7950\n",
      "Epoch 82/100\n",
      "100/100 [==============================] - 200s 2s/step - loss: 0.4001 - acc: 0.8241 - val_loss: 0.4385 - val_acc: 0.8110\n",
      "Epoch 83/100\n",
      "100/100 [==============================] - 198s 2s/step - loss: 0.4130 - acc: 0.8091 - val_loss: 0.4196 - val_acc: 0.8220\n",
      "Epoch 84/100\n",
      "100/100 [==============================] - 197s 2s/step - loss: 0.3934 - acc: 0.8234 - val_loss: 0.4576 - val_acc: 0.7950\n",
      "Epoch 85/100\n",
      "100/100 [==============================] - 195s 2s/step - loss: 0.4001 - acc: 0.8247 - val_loss: 0.5109 - val_acc: 0.7800\n",
      "Epoch 86/100\n",
      "100/100 [==============================] - 196s 2s/step - loss: 0.3866 - acc: 0.8262 - val_loss: 0.4898 - val_acc: 0.7760\n",
      "Epoch 87/100\n",
      "100/100 [==============================] - 201s 2s/step - loss: 0.4001 - acc: 0.8219 - val_loss: 0.4680 - val_acc: 0.7920\n",
      "Epoch 88/100\n",
      "100/100 [==============================] - 196s 2s/step - loss: 0.3950 - acc: 0.8266 - val_loss: 0.4409 - val_acc: 0.8140\n",
      "Epoch 89/100\n",
      "100/100 [==============================] - 221s 2s/step - loss: 0.4080 - acc: 0.8134 - val_loss: 0.4541 - val_acc: 0.8120\n",
      "Epoch 90/100\n",
      "100/100 [==============================] - 206s 2s/step - loss: 0.3766 - acc: 0.8269 - val_loss: 0.4843 - val_acc: 0.8010\n",
      "Epoch 91/100\n",
      "100/100 [==============================] - 198s 2s/step - loss: 0.3942 - acc: 0.8234 - val_loss: 0.5516 - val_acc: 0.7700\n",
      "Epoch 92/100\n",
      "100/100 [==============================] - 210s 2s/step - loss: 0.3957 - acc: 0.8213 - val_loss: 0.4374 - val_acc: 0.7980\n",
      "Epoch 93/100\n",
      "100/100 [==============================] - 218s 2s/step - loss: 0.4011 - acc: 0.8206 - val_loss: 0.4484 - val_acc: 0.8220\n",
      "Epoch 94/100\n",
      "100/100 [==============================] - 213s 2s/step - loss: 0.3815 - acc: 0.8303 - val_loss: 0.4549 - val_acc: 0.8110\n",
      "Epoch 95/100\n",
      "100/100 [==============================] - 233s 2s/step - loss: 0.4009 - acc: 0.8244 - val_loss: 0.4221 - val_acc: 0.8230\n",
      "Epoch 96/100\n",
      "100/100 [==============================] - 221s 2s/step - loss: 0.3847 - acc: 0.8244 - val_loss: 0.4238 - val_acc: 0.8120\n",
      "Epoch 97/100\n",
      "100/100 [==============================] - 210s 2s/step - loss: 0.3902 - acc: 0.8250 - val_loss: 0.5015 - val_acc: 0.7770\n",
      "Epoch 98/100\n",
      "100/100 [==============================] - 241s 2s/step - loss: 0.3717 - acc: 0.8325 - val_loss: 0.4627 - val_acc: 0.8110\n",
      "Epoch 99/100\n",
      "100/100 [==============================] - 228s 2s/step - loss: 0.3738 - acc: 0.8400 - val_loss: 0.4254 - val_acc: 0.8280\n",
      "Epoch 100/100\n",
      "100/100 [==============================] - 211s 2s/step - loss: 0.3795 - acc: 0.8266 - val_loss: 0.4494 - val_acc: 0.7980\n"
     ]
    },
    {
     "data": {
      "image/png": "[encoded data removed]",
      "text/plain": [
       "<matplotlib.figure.Figure at 0x1824cf2c90>"
      ]
     },
     "metadata": {},
     "output_type": "display_data"
    },
    {
     "data": {
      "image/png": "[encoded data removed]",
      "text/plain": [
       "<matplotlib.figure.Figure at 0x18216ef350>"
      ]
     },
     "metadata": {},
     "output_type": "display_data"
    }
   ],
   "source": [
    "history = model.fit_generator(\n",
    "      train_generator,\n",
    "      steps_per_epoch=100,\n",
    "      epochs=100,\n",
    "      validation_data=validation_generator,\n",
    "      validation_steps=50)\n",
    "\n",
    "model.save('cats_and_dogs_small_2.h5')\n",
    "\n",
    "import matplotlib.pyplot as plt\n",
    "acc = history.history['acc']\n",
    "val_acc = history.history['val_acc']\n",
    "loss = history.history['loss']\n",
    "val_loss = history.history['val_loss']\n",
    "epochs = range(1, len(acc) + 1)\n",
    "plt.plot(epochs, acc, 'bo', label='Training acc')\n",
    "plt.plot(epochs, val_acc, 'b', label='Validation acc')\n",
    "plt.title('Training and validation accuracy')\n",
    "plt.legend()\n",
    "plt.figure()\n",
    "plt.plot(epochs, loss, 'bo', label='Training loss')\n",
    "plt.plot(epochs, val_loss, 'b', label='Validation loss')\n",
    "plt.title('Training and validation loss')\n",
    "plt.legend()\n",
    "plt.show()"
   ]
  },
  {
   "cell_type": "code",
   "execution_count": null,
   "metadata": {},
   "outputs": [],
   "source": []
  }
 ],
 "metadata": {
  "kernelspec": {
   "display_name": "Python 2",
   "language": "python",
   "name": "python2"
  },
  "language_info": {
   "codemirror_mode": {
    "name": "ipython",
    "version": 2
   },
   "file_extension": ".py",
   "mimetype": "text/x-python",
   "name": "python",
   "nbconvert_exporter": "python",
   "pygments_lexer": "ipython2",
   "version": "2.7.14"
  }
 },
 "nbformat": 4,
 "nbformat_minor": 2
}
