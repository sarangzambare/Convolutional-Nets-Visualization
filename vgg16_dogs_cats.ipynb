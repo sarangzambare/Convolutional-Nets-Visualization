{
 "cells": [
  {
   "cell_type": "code",
   "execution_count": 52,
   "metadata": {},
   "outputs": [],
   "source": [
    "from keras import layers\n",
    "from keras.preprocessing.image import ImageDataGenerator\n",
    "import os\n",
    "import numpy as np\n",
    "import matplotlib.pyplot as plt"
   ]
  },
  {
   "cell_type": "code",
   "execution_count": 2,
   "metadata": {},
   "outputs": [],
   "source": [
    "from keras import optimizers"
   ]
  },
  {
   "cell_type": "code",
   "execution_count": 3,
   "metadata": {},
   "outputs": [],
   "source": [
    "from keras import models"
   ]
  },
  {
   "cell_type": "code",
   "execution_count": 17,
   "metadata": {},
   "outputs": [],
   "source": [
    "from keras. applications import VGG16\n",
    "\n",
    "base_dir = '/Users/Wolf-Pack/Desktop/Experiments/dogs_cats/all/cats_dogs_small'\n",
    "train_dir = os.path.join(base_dir, 'train')\n",
    "validation_dir = os.path.join(base_dir, 'validation')\n",
    "test_dir = os.path.join(base_dir, 'test')"
   ]
  },
  {
   "cell_type": "code",
   "execution_count": 6,
   "metadata": {},
   "outputs": [],
   "source": [
    "conv_base = VGG16(weights='imagenet',include_top=False,input_shape=(150,150,3))"
   ]
  },
  {
   "cell_type": "code",
   "execution_count": 13,
   "metadata": {},
   "outputs": [],
   "source": [
    "# train_datagen = ImageDataGenerator(\n",
    "#       rescale=1./255,\n",
    "#       rotation_range=40,\n",
    "#       width_shift_range=0.2,\n",
    "#       height_shift_range=0.2,\n",
    "#       shear_range=0.2,\n",
    "#       zoom_range=0.2,\n",
    "#       horizontal_flip=True,\n",
    "#       fill_mode='nearest')\n",
    "\n",
    "train_datagen = ImageDataGenerator(\n",
    "      rescale=1./255)"
   ]
  },
  {
   "cell_type": "code",
   "execution_count": 14,
   "metadata": {},
   "outputs": [],
   "source": [
    "test_datagen = ImageDataGenerator(rescale=1./255)"
   ]
  },
  {
   "cell_type": "code",
   "execution_count": 18,
   "metadata": {},
   "outputs": [
    {
     "name": "stdout",
     "output_type": "stream",
     "text": [
      "Found 2000 images belonging to 2 classes.\n"
     ]
    }
   ],
   "source": [
    "train_generator = train_datagen.flow_from_directory(train_dir,target_size=(150,150),batch_size=32,class_mode='binary')"
   ]
  },
  {
   "cell_type": "code",
   "execution_count": 19,
   "metadata": {},
   "outputs": [
    {
     "name": "stdout",
     "output_type": "stream",
     "text": [
      "Found 1000 images belonging to 2 classes.\n"
     ]
    }
   ],
   "source": [
    "validation_generator = test_datagen.flow_from_directory(\n",
    "        validation_dir,\n",
    "        target_size=(150, 150),\n",
    "        batch_size=20,\n",
    "        class_mode='binary')\n"
   ]
  },
  {
   "cell_type": "code",
   "execution_count": 48,
   "metadata": {},
   "outputs": [],
   "source": [
    "batch_size = 20\n",
    "\n",
    "def extract_features(directory,sample_count):\n",
    "    generator = train_datagen.flow_from_directory(directory,target_size=(150,150),batch_size=20,class_mode='binary')\n",
    "    features = np.zeros(shape=(sample_count,4,4,512))\n",
    "    labels = np.zeros(shape=(sample_count))\n",
    "    i=0\n",
    "    for input_batch,labels_batch in generator:\n",
    "        features[i*batch_size : ((i+1)*batch_size)] = conv_base.predict(input_batch)\n",
    "        labels[i*batch_size : (i+1)*batch_size] = labels_batch\n",
    "        i+=1\n",
    "        if i*batch_size >= sample_count:\n",
    "            break\n",
    "    return features,labels"
   ]
  },
  {
   "cell_type": "code",
   "execution_count": 51,
   "metadata": {},
   "outputs": [
    {
     "name": "stdout",
     "output_type": "stream",
     "text": [
      "Found 2000 images belonging to 2 classes.\n",
      "Found 1000 images belonging to 2 classes.\n",
      "Found 1000 images belonging to 2 classes.\n",
      "Train on 2000 samples, validate on 1000 samples\n",
      "Epoch 1/30\n",
      "2000/2000 [==============================] - 7s 3ms/step - loss: 0.6668 - acc: 0.6190 - val_loss: 0.5480 - val_acc: 0.7510\n",
      "Epoch 2/30\n",
      "2000/2000 [==============================] - 4s 2ms/step - loss: 0.5409 - acc: 0.7290 - val_loss: 0.5006 - val_acc: 0.7690\n",
      "Epoch 3/30\n",
      "2000/2000 [==============================] - 4s 2ms/step - loss: 0.4736 - acc: 0.7810 - val_loss: 0.4496 - val_acc: 0.8010\n",
      "Epoch 4/30\n",
      "2000/2000 [==============================] - 4s 2ms/step - loss: 0.4199 - acc: 0.8135 - val_loss: 0.4287 - val_acc: 0.8100\n",
      "Epoch 5/30\n",
      "2000/2000 [==============================] - 4s 2ms/step - loss: 0.4026 - acc: 0.8120 - val_loss: 0.4235 - val_acc: 0.8150\n",
      "Epoch 6/30\n",
      "2000/2000 [==============================] - 4s 2ms/step - loss: 0.3801 - acc: 0.8295 - val_loss: 0.4034 - val_acc: 0.8220\n",
      "Epoch 7/30\n",
      "2000/2000 [==============================] - 4s 2ms/step - loss: 0.3484 - acc: 0.8490 - val_loss: 0.3920 - val_acc: 0.8290\n",
      "Epoch 8/30\n",
      "2000/2000 [==============================] - 4s 2ms/step - loss: 0.3312 - acc: 0.8645 - val_loss: 0.3838 - val_acc: 0.8250\n",
      "Epoch 9/30\n",
      "2000/2000 [==============================] - 4s 2ms/step - loss: 0.3182 - acc: 0.8620 - val_loss: 0.3846 - val_acc: 0.8250\n",
      "Epoch 10/30\n",
      "2000/2000 [==============================] - 4s 2ms/step - loss: 0.3066 - acc: 0.8850 - val_loss: 0.3751 - val_acc: 0.8360\n",
      "Epoch 11/30\n",
      "2000/2000 [==============================] - 4s 2ms/step - loss: 0.2839 - acc: 0.8905 - val_loss: 0.3781 - val_acc: 0.8350\n",
      "Epoch 12/30\n",
      "2000/2000 [==============================] - 4s 2ms/step - loss: 0.2795 - acc: 0.8880 - val_loss: 0.3702 - val_acc: 0.8380\n",
      "Epoch 13/30\n",
      "2000/2000 [==============================] - 4s 2ms/step - loss: 0.2658 - acc: 0.8975 - val_loss: 0.3724 - val_acc: 0.8370\n",
      "Epoch 14/30\n",
      "2000/2000 [==============================] - 4s 2ms/step - loss: 0.2579 - acc: 0.9010 - val_loss: 0.3731 - val_acc: 0.8370\n",
      "Epoch 15/30\n",
      "2000/2000 [==============================] - 3s 2ms/step - loss: 0.2531 - acc: 0.9005 - val_loss: 0.3640 - val_acc: 0.8410\n",
      "Epoch 16/30\n",
      "2000/2000 [==============================] - 4s 2ms/step - loss: 0.2388 - acc: 0.9120 - val_loss: 0.3603 - val_acc: 0.8380\n",
      "Epoch 17/30\n",
      "2000/2000 [==============================] - 3s 2ms/step - loss: 0.2258 - acc: 0.9185 - val_loss: 0.3617 - val_acc: 0.8400\n",
      "Epoch 18/30\n",
      "2000/2000 [==============================] - 4s 2ms/step - loss: 0.2267 - acc: 0.9155 - val_loss: 0.3589 - val_acc: 0.8420\n",
      "Epoch 19/30\n",
      "2000/2000 [==============================] - 4s 2ms/step - loss: 0.2209 - acc: 0.9210 - val_loss: 0.3672 - val_acc: 0.8420\n",
      "Epoch 20/30\n",
      "2000/2000 [==============================] - 4s 2ms/step - loss: 0.2056 - acc: 0.9305 - val_loss: 0.3692 - val_acc: 0.8280\n",
      "Epoch 21/30\n",
      "2000/2000 [==============================] - 5s 2ms/step - loss: 0.2003 - acc: 0.9330 - val_loss: 0.3556 - val_acc: 0.8400\n",
      "Epoch 22/30\n",
      "2000/2000 [==============================] - 5s 3ms/step - loss: 0.1967 - acc: 0.9295 - val_loss: 0.3606 - val_acc: 0.8420\n",
      "Epoch 23/30\n",
      "2000/2000 [==============================] - 5s 3ms/step - loss: 0.1851 - acc: 0.9370 - val_loss: 0.3588 - val_acc: 0.8360\n",
      "Epoch 24/30\n",
      "2000/2000 [==============================] - 5s 3ms/step - loss: 0.1795 - acc: 0.9415 - val_loss: 0.3566 - val_acc: 0.8400\n",
      "Epoch 25/30\n",
      "2000/2000 [==============================] - 4s 2ms/step - loss: 0.1744 - acc: 0.9430 - val_loss: 0.3559 - val_acc: 0.8400\n",
      "Epoch 26/30\n",
      "2000/2000 [==============================] - 4s 2ms/step - loss: 0.1684 - acc: 0.9470 - val_loss: 0.3589 - val_acc: 0.8410\n",
      "Epoch 27/30\n",
      "2000/2000 [==============================] - 4s 2ms/step - loss: 0.1632 - acc: 0.9485 - val_loss: 0.3574 - val_acc: 0.8410\n",
      "Epoch 28/30\n",
      "2000/2000 [==============================] - 4s 2ms/step - loss: 0.1604 - acc: 0.9550 - val_loss: 0.3601 - val_acc: 0.8420\n",
      "Epoch 29/30\n",
      "2000/2000 [==============================] - 4s 2ms/step - loss: 0.1562 - acc: 0.9560 - val_loss: 0.3646 - val_acc: 0.8430\n",
      "Epoch 30/30\n",
      "2000/2000 [==============================] - 4s 2ms/step - loss: 0.1468 - acc: 0.9550 - val_loss: 0.3586 - val_acc: 0.8410\n"
     ]
    }
   ],
   "source": [
    "train_features, train_labels = extract_features(train_dir,2000)\n",
    "validation_features, validation_labels = extract_features(validation_dir, 1000) \n",
    "test_features, test_labels = extract_features(test_dir, 1000)\n",
    "\n",
    "train_features = np.reshape(train_features, (2000, 4 * 4 * 512))\n",
    "validation_features = np.reshape(validation_features, (1000, 4 * 4 * 512))\n",
    "test_features = np.reshape(test_features, (1000, 4 * 4 * 512))\n",
    "\n",
    "\n",
    "model = models.Sequential()\n",
    "model.add(layers.Dense(256,activation='relu',input_dim=4*4*512))\n",
    "model.add(layers.Dropout(0.5))\n",
    "model.add(layers.Dense(1,activation='sigmoid'))\n",
    "\n",
    "model.compile(optimizer=optimizers.RMSprop(lr=2e-5),loss='binary_crossentropy',metrics=['acc'])\n",
    "\n",
    "history = model.fit(train_features,train_labels,epochs=30,batch_size=20,validation_data=(validation_features,validation_labels))\n"
   ]
  },
  {
   "cell_type": "code",
   "execution_count": 53,
   "metadata": {},
   "outputs": [
    {
     "data": {
      "image/png": "[encoded data removed]",
      "text/plain": [
       "<matplotlib.figure.Figure at 0x181ef805d0>"
      ]
     },
     "metadata": {},
     "output_type": "display_data"
    },
    {
     "data": {
      "image/png": "[encoded data removed]",
      "text/plain": [
       "<matplotlib.figure.Figure at 0x181eff0790>"
      ]
     },
     "metadata": {},
     "output_type": "display_data"
    }
   ],
   "source": [
    "acc = history.history['acc']\n",
    "val_acc = history.history['val_acc']\n",
    "loss = history.history['loss']\n",
    "val_loss = history.history['val_loss']\n",
    "epochs = range(1, len(acc) + 1)\n",
    "plt.plot(epochs, acc, 'bo', label='Training acc')\n",
    "plt.plot(epochs, val_acc, 'b', label='Validation acc')\n",
    "plt.title('Training and validation accuracy')\n",
    "plt.legend()\n",
    "plt.figure()\n",
    "plt.plot(epochs, loss, 'bo', label='Training loss')\n",
    "plt.plot(epochs, val_loss, 'b', label='Validation loss')\n",
    "plt.title('Training and validation loss')\n",
    "plt.legend()\n",
    "plt.show()"
   ]
  },
  {
   "cell_type": "code",
   "execution_count": null,
   "metadata": {},
   "outputs": [],
   "source": []
  }
 ],
 "metadata": {
  "kernelspec": {
   "display_name": "Python 2",
   "language": "python",
   "name": "python2"
  },
  "language_info": {
   "codemirror_mode": {
    "name": "ipython",
    "version": 2
   },
   "file_extension": ".py",
   "mimetype": "text/x-python",
   "name": "python",
   "nbconvert_exporter": "python",
   "pygments_lexer": "ipython2",
   "version": "2.7.14"
  }
 },
 "nbformat": 4,
 "nbformat_minor": 2
}
